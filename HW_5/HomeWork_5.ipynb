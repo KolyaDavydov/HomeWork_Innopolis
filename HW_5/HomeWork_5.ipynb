{
  "nbformat": 4,
  "nbformat_minor": 0,
  "metadata": {
    "colab": {
      "provenance": [],
      "collapsed_sections": [
        "om5kKQrOI6EG",
        "sUaExZdniJZv",
        "PNPKLha2ig5p",
        "HJXxbd8rjGfG",
        "mF8UQ88sjzYu"
      ]
    },
    "kernelspec": {
      "name": "python3",
      "display_name": "Python 3"
    },
    "language_info": {
      "name": "python"
    }
  },
  "cells": [
    {
      "cell_type": "code",
      "execution_count": 54,
      "metadata": {
        "id": "XfIGayjAGqlK"
      },
      "outputs": [],
      "source": [
        "url='https://drive.google.com/uc?id=1jqcEqjWDTCSOjIYRVTLNWkUHkVsJca6O'"
      ]
    },
    {
      "cell_type": "markdown",
      "source": [
        "###Добавить датасет и перефармотировать в DataFrame pandas"
      ],
      "metadata": {
        "id": "om5kKQrOI6EG"
      }
    },
    {
      "cell_type": "code",
      "source": [
        "import pandas as pd\n",
        "tit = pd.read_csv(url)\n",
        "\n"
      ],
      "metadata": {
        "id": "2hhR2O975Q1P"
      },
      "execution_count": 55,
      "outputs": []
    },
    {
      "cell_type": "markdown",
      "source": [
        "### Количество пустых ячеек"
      ],
      "metadata": {
        "id": "eb4lkTHrgemd"
      }
    },
    {
      "cell_type": "markdown",
      "source": [
        "#### Количество пустых ячеек для каждого признака"
      ],
      "metadata": {
        "id": "MPZywuvFKA7o"
      }
    },
    {
      "cell_type": "code",
      "source": [
        "tit.isnull().sum()"
      ],
      "metadata": {
        "colab": {
          "base_uri": "https://localhost:8080/"
        },
        "id": "QHOj-XrZJ-yi",
        "outputId": "38b84c27-540c-49ce-80d5-824773a41093"
      },
      "execution_count": 56,
      "outputs": [
        {
          "output_type": "execute_result",
          "data": {
            "text/plain": [
              "PassengerId      0\n",
              "Survived         0\n",
              "Pclass           0\n",
              "Name             0\n",
              "Sex              0\n",
              "Age            177\n",
              "SibSp            0\n",
              "Parch            0\n",
              "Ticket           0\n",
              "Fare             0\n",
              "Cabin          687\n",
              "Embarked         2\n",
              "dtype: int64"
            ]
          },
          "metadata": {},
          "execution_count": 56
        }
      ]
    },
    {
      "cell_type": "markdown",
      "source": [
        "#### Посчитать общее количество пустых ячеек"
      ],
      "metadata": {
        "id": "uMLEx4KFKSv6"
      }
    },
    {
      "cell_type": "code",
      "source": [
        "tit.isnull().sum().sum()"
      ],
      "metadata": {
        "colab": {
          "base_uri": "https://localhost:8080/"
        },
        "id": "NBdzFdSjKS7g",
        "outputId": "6ee3ff0b-5d8f-4c5a-b639-0631069707cf"
      },
      "execution_count": 57,
      "outputs": [
        {
          "output_type": "execute_result",
          "data": {
            "text/plain": [
              "866"
            ]
          },
          "metadata": {},
          "execution_count": 57
        }
      ]
    },
    {
      "cell_type": "markdown",
      "source": [
        "### Избавляемся от пустых ячеек"
      ],
      "metadata": {
        "id": "w36Azgw8miWm"
      }
    },
    {
      "cell_type": "code",
      "source": [
        "tit.info()\n",
        "\n",
        "# пропущены:\n",
        "# 'Age' - 177 ячеек с типом float\n",
        "# 'Cabin' - 687 ячеек с типом string\n",
        "# 'Embarged' - 2 ячеек с типом string\n"
      ],
      "metadata": {
        "colab": {
          "base_uri": "https://localhost:8080/"
        },
        "id": "fn3pO-AcPpaJ",
        "outputId": "1a574ebf-73f9-4e54-9c3a-9adf24c29251"
      },
      "execution_count": 58,
      "outputs": [
        {
          "output_type": "stream",
          "name": "stdout",
          "text": [
            "<class 'pandas.core.frame.DataFrame'>\n",
            "RangeIndex: 891 entries, 0 to 890\n",
            "Data columns (total 12 columns):\n",
            " #   Column       Non-Null Count  Dtype  \n",
            "---  ------       --------------  -----  \n",
            " 0   PassengerId  891 non-null    int64  \n",
            " 1   Survived     891 non-null    int64  \n",
            " 2   Pclass       891 non-null    int64  \n",
            " 3   Name         891 non-null    object \n",
            " 4   Sex          891 non-null    object \n",
            " 5   Age          714 non-null    float64\n",
            " 6   SibSp        891 non-null    int64  \n",
            " 7   Parch        891 non-null    int64  \n",
            " 8   Ticket       891 non-null    object \n",
            " 9   Fare         891 non-null    float64\n",
            " 10  Cabin        204 non-null    object \n",
            " 11  Embarked     889 non-null    object \n",
            "dtypes: float64(2), int64(5), object(5)\n",
            "memory usage: 83.7+ KB\n"
          ]
        }
      ]
    },
    {
      "cell_type": "code",
      "source": [
        "\n",
        "# Пустые ячейки 'Age' заменим средним значением возраста и перезапишем переменную\n",
        "tit['Age'] = tit['Age'].fillna(tit['Age'].mean())\n"
      ],
      "metadata": {
        "id": "I7BDh__OkSpP"
      },
      "execution_count": 59,
      "outputs": []
    },
    {
      "cell_type": "code",
      "source": [
        "#Значение поля 'Cabin' состоит из заглавной буквы с последующими цифрами\n",
        "# отсортировав можно увидить что они находятся в диапазонах от A... до T...\n",
        "tit.sort_values(by=['Cabin']).head(205)\n",
        "# Поскольку у нас более половины пустых ячеек то удалять строки мы не будем - это значительно скажется на погрешности, а заполним значением 'W':\n",
        "tit['Cabin'].fillna('W', inplace=True)\n",
        "# оставшиеся две ячейки в пустых строках - удалим\n",
        "tit.dropna(inplace=True)"
      ],
      "metadata": {
        "id": "OUHiifhxDO9l"
      },
      "execution_count": 60,
      "outputs": []
    },
    {
      "cell_type": "markdown",
      "source": [
        "### Проведем аналитику dataseta, определив для каждого признако количество уникальных значений, минимальное и максимальное значение"
      ],
      "metadata": {
        "id": "bDlpA2IwfsRd"
      }
    },
    {
      "cell_type": "code",
      "source": [
        "# Для каждого признака определим количество уникальных значение, а так же минимальное и максимальное значение\n",
        "columns = list(tit.columns)\n",
        "\n",
        "for i in range(len(columns)):\n",
        "  print(\"Признак: \" + columns[i] + \", Уникальных значений: \" + str(tit[columns[i]].nunique())\n",
        "  + \", Минимальное значение:\" + str(tit[columns[i]].min()) + \", Максимальное значение:\" + str(tit[columns[i]].max()))"
      ],
      "metadata": {
        "colab": {
          "base_uri": "https://localhost:8080/"
        },
        "id": "dMedPdVfPDI2",
        "outputId": "f0f8aa53-7369-43fd-fd35-5a72ec2507f8"
      },
      "execution_count": 61,
      "outputs": [
        {
          "output_type": "stream",
          "name": "stdout",
          "text": [
            "Признак: PassengerId, Уникальных значений: 889, Минимальное значение:1, Максимальное значение:891\n",
            "Признак: Survived, Уникальных значений: 2, Минимальное значение:0, Максимальное значение:1\n",
            "Признак: Pclass, Уникальных значений: 3, Минимальное значение:1, Максимальное значение:3\n",
            "Признак: Name, Уникальных значений: 889, Минимальное значение:Abbing, Mr. Anthony, Максимальное значение:van Melkebeke, Mr. Philemon\n",
            "Признак: Sex, Уникальных значений: 2, Минимальное значение:female, Максимальное значение:male\n",
            "Признак: Age, Уникальных значений: 89, Минимальное значение:0.42, Максимальное значение:80.0\n",
            "Признак: SibSp, Уникальных значений: 7, Минимальное значение:0, Максимальное значение:8\n",
            "Признак: Parch, Уникальных значений: 7, Минимальное значение:0, Максимальное значение:6\n",
            "Признак: Ticket, Уникальных значений: 680, Минимальное значение:110152, Максимальное значение:WE/P 5735\n",
            "Признак: Fare, Уникальных значений: 247, Минимальное значение:0.0, Максимальное значение:512.3292\n",
            "Признак: Cabin, Уникальных значений: 147, Минимальное значение:A10, Максимальное значение:W\n",
            "Признак: Embarked, Уникальных значений: 3, Минимальное значение:C, Максимальное значение:S\n"
          ]
        }
      ]
    },
    {
      "cell_type": "markdown",
      "source": [
        "### Вероятности выживания в зависимости от признаков"
      ],
      "metadata": {
        "id": "v9zcXoQ4iSZN"
      }
    },
    {
      "cell_type": "code",
      "source": [
        "# Будем проводить анализ на выживаемость для следующих признаков: 'Pclass', 'Sex', 'Age', 'SibSp', 'Parch', 'Fare' 'Embarked'\n",
        "# для анализа числовых значений признаков будем использовать дополнительную библиотеку и сравнивая значение столбцов выживших и не выживших\n",
        "# Положительное значение говорит о том что вероятность выжить с увеличением значений другого столбца растет\n",
        "# если pvalye не меньше α = 0,05, можно сделать вывод, что корреляция не является статистически значимой\n",
        "from scipy. stats import pearsonr\n",
        "\n"
      ],
      "metadata": {
        "id": "hC0PszOQZ0do"
      },
      "execution_count": 62,
      "outputs": []
    },
    {
      "cell_type": "markdown",
      "source": [
        "#### Вероятность выживания в зависимости от 'Pclass'"
      ],
      "metadata": {
        "id": "sUaExZdniJZv"
      }
    },
    {
      "cell_type": "code",
      "source": [
        "pearsonr(tit['Survived'], tit['Pclass'])\n",
        "# Чем ниже цифра класса (более комфортный класс), тем больше вероятность выжить с очень хорошим p-значением"
      ],
      "metadata": {
        "colab": {
          "base_uri": "https://localhost:8080/"
        },
        "id": "4t04PGKJh0jg",
        "outputId": "2bd3bf09-dd85-41ba-e4a8-278570e70629"
      },
      "execution_count": 63,
      "outputs": [
        {
          "output_type": "execute_result",
          "data": {
            "text/plain": [
              "PearsonRResult(statistic=-0.33554885935682516, pvalue=7.776916288563356e-25)"
            ]
          },
          "metadata": {},
          "execution_count": 63
        }
      ]
    },
    {
      "cell_type": "markdown",
      "source": [
        "#### Вероятность выживания в зависимости от 'Age'"
      ],
      "metadata": {
        "id": "PNPKLha2ig5p"
      }
    },
    {
      "cell_type": "code",
      "source": [
        "pearsonr(tit['Survived'], tit['Age'])\n",
        "# Чем моложе, тем больше вероятность выжить с хорошим p-значением"
      ],
      "metadata": {
        "colab": {
          "base_uri": "https://localhost:8080/"
        },
        "id": "0Am3uRb4ihOf",
        "outputId": "cc27f7cb-bc4e-4299-9dcc-533fbcdfb19d"
      },
      "execution_count": 64,
      "outputs": [
        {
          "output_type": "execute_result",
          "data": {
            "text/plain": [
              "PearsonRResult(statistic=-0.07467292378981866, pvalue=0.0259852572453244)"
            ]
          },
          "metadata": {},
          "execution_count": 64
        }
      ]
    },
    {
      "cell_type": "markdown",
      "source": [
        "#### Вероятность выживания в зависимости от 'SibSp'"
      ],
      "metadata": {
        "id": "HJXxbd8rjGfG"
      }
    },
    {
      "cell_type": "code",
      "source": [
        "pearsonr(tit['Survived'], tit['SibSp'])\n",
        "# Чем меньше братьев, сестер или супругов, тем больше вероятность выжить, однако корреляция не является статистически значимой"
      ],
      "metadata": {
        "colab": {
          "base_uri": "https://localhost:8080/"
        },
        "id": "f4gikeAojO20",
        "outputId": "b7f32c25-5545-410c-c607-2068afeb1a81"
      },
      "execution_count": 65,
      "outputs": [
        {
          "output_type": "execute_result",
          "data": {
            "text/plain": [
              "PearsonRResult(statistic=-0.03403999879674896, pvalue=0.310675373411362)"
            ]
          },
          "metadata": {},
          "execution_count": 65
        }
      ]
    },
    {
      "cell_type": "markdown",
      "source": [
        "#### Вероятность выживания в зависимости от 'Parch'"
      ],
      "metadata": {
        "id": "mF8UQ88sjzYu"
      }
    },
    {
      "cell_type": "code",
      "source": [
        "pearsonr(tit['Survived'], tit['Parch'])\n",
        "# Чем больше родителей или детей, тем больше вероятность выжить с хорошим p-значением"
      ],
      "metadata": {
        "colab": {
          "base_uri": "https://localhost:8080/"
        },
        "id": "iyHdCAC6kH6g",
        "outputId": "c414a6ea-4c22-484a-af26-17970f3a5a77"
      },
      "execution_count": 66,
      "outputs": [
        {
          "output_type": "execute_result",
          "data": {
            "text/plain": [
              "PearsonRResult(statistic=0.08315078366620232, pvalue=0.013136766201094762)"
            ]
          },
          "metadata": {},
          "execution_count": 66
        }
      ]
    },
    {
      "cell_type": "markdown",
      "source": [
        "#### Вероятность выживания в зависимости от 'Fare'"
      ],
      "metadata": {
        "id": "pa8Wnpr_en5e"
      }
    },
    {
      "cell_type": "code",
      "source": [
        "pearsonr(tit['Survived'], tit['Fare'])\n",
        "# Чем больше цена билета, тем больше вероятность выжить с очень хорошим p-значением"
      ],
      "metadata": {
        "colab": {
          "base_uri": "https://localhost:8080/"
        },
        "id": "r_N59NZoetB1",
        "outputId": "299d5911-7747-487a-810e-e6dd9d4d7626"
      },
      "execution_count": 67,
      "outputs": [
        {
          "output_type": "execute_result",
          "data": {
            "text/plain": [
              "PearsonRResult(statistic=0.2552904613046991, pvalue=1.0797887540538013e-14)"
            ]
          },
          "metadata": {},
          "execution_count": 67
        }
      ]
    },
    {
      "cell_type": "markdown",
      "source": [
        "#### Вероятность выживания в зависимости от 'Sex'"
      ],
      "metadata": {
        "id": "8WN9K5BHlP1B"
      }
    },
    {
      "cell_type": "code",
      "source": [
        "# вернем dataframe с женским или мужским полом и найдем среднее значение выживание (будет процент выживания для определенного пола)\n",
        "# Женщин выжило, %:\n",
        "print(\"выжило \" + str(tit.loc[tit['Sex'] == 'female']['Survived'].mean()) + \" процентов женщин\")\n",
        "\n",
        "# мужчин выжило, %:\n",
        "print(\"выжило \" + str(tit.loc[tit['Sex'] == 'male']['Survived'].mean()) + \" процентов мужчин\")\n",
        "# принадлежность к женскому полу повышает вероятность выживания, джемнтельмены были тогда"
      ],
      "metadata": {
        "colab": {
          "base_uri": "https://localhost:8080/"
        },
        "id": "oBDYL_zNlQxm",
        "outputId": "16aea993-3f4d-4dc7-9054-b1e9eeabf4c8"
      },
      "execution_count": 68,
      "outputs": [
        {
          "output_type": "stream",
          "name": "stdout",
          "text": [
            "выжило 0.7403846153846154 процентов женщин\n",
            "выжило 0.18890814558058924 процентов мужчин\n"
          ]
        }
      ]
    },
    {
      "cell_type": "markdown",
      "source": [
        "#### Вероятность выживания в зависимости от 'Embarked'"
      ],
      "metadata": {
        "id": "ktjPgiAZquJ4"
      }
    },
    {
      "cell_type": "code",
      "source": [
        "tit.groupby(by='Embarked').mean()\n",
        "# сгруппировав по признаку 'Embarked' и найдя средние значения видно, что выжило человек севших в портах\n",
        "# C - 55,3 %\n",
        "# Q - 38,9 %\n",
        "# S - 33,6 %\n",
        "\n",
        "# Посадка в порту не играло статистически значимого результата на процент выживания"
      ],
      "metadata": {
        "colab": {
          "base_uri": "https://localhost:8080/",
          "height": 230
        },
        "id": "bTv7YEA19l9S",
        "outputId": "fd491740-2bda-476b-912f-b81ca4622a96"
      },
      "execution_count": 69,
      "outputs": [
        {
          "output_type": "stream",
          "name": "stderr",
          "text": [
            "<ipython-input-69-8d93d7f8ff75>:1: FutureWarning: The default value of numeric_only in DataFrameGroupBy.mean is deprecated. In a future version, numeric_only will default to False. Either specify numeric_only or select only columns which should be valid for the function.\n",
            "  tit.groupby(by='Embarked').mean()\n"
          ]
        },
        {
          "output_type": "execute_result",
          "data": {
            "text/plain": [
              "          PassengerId  Survived    Pclass        Age     SibSp     Parch  \\\n",
              "Embarked                                                                   \n",
              "C          445.357143  0.553571  1.886905  30.562419  0.386905  0.363095   \n",
              "Q          417.896104  0.389610  2.909091  29.113724  0.428571  0.168831   \n",
              "S          449.527950  0.336957  2.350932  29.480855  0.571429  0.413043   \n",
              "\n",
              "               Fare  \n",
              "Embarked             \n",
              "C         59.954144  \n",
              "Q         13.276030  \n",
              "S         27.079812  "
            ],
            "text/html": [
              "\n",
              "\n",
              "  <div id=\"df-7979e04b-d7e4-4c98-8f72-eb67d0525918\">\n",
              "    <div class=\"colab-df-container\">\n",
              "      <div>\n",
              "<style scoped>\n",
              "    .dataframe tbody tr th:only-of-type {\n",
              "        vertical-align: middle;\n",
              "    }\n",
              "\n",
              "    .dataframe tbody tr th {\n",
              "        vertical-align: top;\n",
              "    }\n",
              "\n",
              "    .dataframe thead th {\n",
              "        text-align: right;\n",
              "    }\n",
              "</style>\n",
              "<table border=\"1\" class=\"dataframe\">\n",
              "  <thead>\n",
              "    <tr style=\"text-align: right;\">\n",
              "      <th></th>\n",
              "      <th>PassengerId</th>\n",
              "      <th>Survived</th>\n",
              "      <th>Pclass</th>\n",
              "      <th>Age</th>\n",
              "      <th>SibSp</th>\n",
              "      <th>Parch</th>\n",
              "      <th>Fare</th>\n",
              "    </tr>\n",
              "    <tr>\n",
              "      <th>Embarked</th>\n",
              "      <th></th>\n",
              "      <th></th>\n",
              "      <th></th>\n",
              "      <th></th>\n",
              "      <th></th>\n",
              "      <th></th>\n",
              "      <th></th>\n",
              "    </tr>\n",
              "  </thead>\n",
              "  <tbody>\n",
              "    <tr>\n",
              "      <th>C</th>\n",
              "      <td>445.357143</td>\n",
              "      <td>0.553571</td>\n",
              "      <td>1.886905</td>\n",
              "      <td>30.562419</td>\n",
              "      <td>0.386905</td>\n",
              "      <td>0.363095</td>\n",
              "      <td>59.954144</td>\n",
              "    </tr>\n",
              "    <tr>\n",
              "      <th>Q</th>\n",
              "      <td>417.896104</td>\n",
              "      <td>0.389610</td>\n",
              "      <td>2.909091</td>\n",
              "      <td>29.113724</td>\n",
              "      <td>0.428571</td>\n",
              "      <td>0.168831</td>\n",
              "      <td>13.276030</td>\n",
              "    </tr>\n",
              "    <tr>\n",
              "      <th>S</th>\n",
              "      <td>449.527950</td>\n",
              "      <td>0.336957</td>\n",
              "      <td>2.350932</td>\n",
              "      <td>29.480855</td>\n",
              "      <td>0.571429</td>\n",
              "      <td>0.413043</td>\n",
              "      <td>27.079812</td>\n",
              "    </tr>\n",
              "  </tbody>\n",
              "</table>\n",
              "</div>\n",
              "      <button class=\"colab-df-convert\" onclick=\"convertToInteractive('df-7979e04b-d7e4-4c98-8f72-eb67d0525918')\"\n",
              "              title=\"Convert this dataframe to an interactive table.\"\n",
              "              style=\"display:none;\">\n",
              "\n",
              "  <svg xmlns=\"http://www.w3.org/2000/svg\" height=\"24px\"viewBox=\"0 0 24 24\"\n",
              "       width=\"24px\">\n",
              "    <path d=\"M0 0h24v24H0V0z\" fill=\"none\"/>\n",
              "    <path d=\"M18.56 5.44l.94 2.06.94-2.06 2.06-.94-2.06-.94-.94-2.06-.94 2.06-2.06.94zm-11 1L8.5 8.5l.94-2.06 2.06-.94-2.06-.94L8.5 2.5l-.94 2.06-2.06.94zm10 10l.94 2.06.94-2.06 2.06-.94-2.06-.94-.94-2.06-.94 2.06-2.06.94z\"/><path d=\"M17.41 7.96l-1.37-1.37c-.4-.4-.92-.59-1.43-.59-.52 0-1.04.2-1.43.59L10.3 9.45l-7.72 7.72c-.78.78-.78 2.05 0 2.83L4 21.41c.39.39.9.59 1.41.59.51 0 1.02-.2 1.41-.59l7.78-7.78 2.81-2.81c.8-.78.8-2.07 0-2.86zM5.41 20L4 18.59l7.72-7.72 1.47 1.35L5.41 20z\"/>\n",
              "  </svg>\n",
              "      </button>\n",
              "\n",
              "\n",
              "\n",
              "    <div id=\"df-c24b95fb-a74d-41ff-84d2-b1624212bc45\">\n",
              "      <button class=\"colab-df-quickchart\" onclick=\"quickchart('df-c24b95fb-a74d-41ff-84d2-b1624212bc45')\"\n",
              "              title=\"Suggest charts.\"\n",
              "              style=\"display:none;\">\n",
              "\n",
              "<svg xmlns=\"http://www.w3.org/2000/svg\" height=\"24px\"viewBox=\"0 0 24 24\"\n",
              "     width=\"24px\">\n",
              "    <g>\n",
              "        <path d=\"M19 3H5c-1.1 0-2 .9-2 2v14c0 1.1.9 2 2 2h14c1.1 0 2-.9 2-2V5c0-1.1-.9-2-2-2zM9 17H7v-7h2v7zm4 0h-2V7h2v10zm4 0h-2v-4h2v4z\"/>\n",
              "    </g>\n",
              "</svg>\n",
              "      </button>\n",
              "    </div>\n",
              "\n",
              "<style>\n",
              "  .colab-df-quickchart {\n",
              "    background-color: #E8F0FE;\n",
              "    border: none;\n",
              "    border-radius: 50%;\n",
              "    cursor: pointer;\n",
              "    display: none;\n",
              "    fill: #1967D2;\n",
              "    height: 32px;\n",
              "    padding: 0 0 0 0;\n",
              "    width: 32px;\n",
              "  }\n",
              "\n",
              "  .colab-df-quickchart:hover {\n",
              "    background-color: #E2EBFA;\n",
              "    box-shadow: 0px 1px 2px rgba(60, 64, 67, 0.3), 0px 1px 3px 1px rgba(60, 64, 67, 0.15);\n",
              "    fill: #174EA6;\n",
              "  }\n",
              "\n",
              "  [theme=dark] .colab-df-quickchart {\n",
              "    background-color: #3B4455;\n",
              "    fill: #D2E3FC;\n",
              "  }\n",
              "\n",
              "  [theme=dark] .colab-df-quickchart:hover {\n",
              "    background-color: #434B5C;\n",
              "    box-shadow: 0px 1px 3px 1px rgba(0, 0, 0, 0.15);\n",
              "    filter: drop-shadow(0px 1px 2px rgba(0, 0, 0, 0.3));\n",
              "    fill: #FFFFFF;\n",
              "  }\n",
              "</style>\n",
              "\n",
              "    <script>\n",
              "      async function quickchart(key) {\n",
              "        const containerElement = document.querySelector('#' + key);\n",
              "        const charts = await google.colab.kernel.invokeFunction(\n",
              "            'suggestCharts', [key], {});\n",
              "      }\n",
              "    </script>\n",
              "\n",
              "      <script>\n",
              "\n",
              "function displayQuickchartButton(domScope) {\n",
              "  let quickchartButtonEl =\n",
              "    domScope.querySelector('#df-c24b95fb-a74d-41ff-84d2-b1624212bc45 button.colab-df-quickchart');\n",
              "  quickchartButtonEl.style.display =\n",
              "    google.colab.kernel.accessAllowed ? 'block' : 'none';\n",
              "}\n",
              "\n",
              "        displayQuickchartButton(document);\n",
              "      </script>\n",
              "      <style>\n",
              "    .colab-df-container {\n",
              "      display:flex;\n",
              "      flex-wrap:wrap;\n",
              "      gap: 12px;\n",
              "    }\n",
              "\n",
              "    .colab-df-convert {\n",
              "      background-color: #E8F0FE;\n",
              "      border: none;\n",
              "      border-radius: 50%;\n",
              "      cursor: pointer;\n",
              "      display: none;\n",
              "      fill: #1967D2;\n",
              "      height: 32px;\n",
              "      padding: 0 0 0 0;\n",
              "      width: 32px;\n",
              "    }\n",
              "\n",
              "    .colab-df-convert:hover {\n",
              "      background-color: #E2EBFA;\n",
              "      box-shadow: 0px 1px 2px rgba(60, 64, 67, 0.3), 0px 1px 3px 1px rgba(60, 64, 67, 0.15);\n",
              "      fill: #174EA6;\n",
              "    }\n",
              "\n",
              "    [theme=dark] .colab-df-convert {\n",
              "      background-color: #3B4455;\n",
              "      fill: #D2E3FC;\n",
              "    }\n",
              "\n",
              "    [theme=dark] .colab-df-convert:hover {\n",
              "      background-color: #434B5C;\n",
              "      box-shadow: 0px 1px 3px 1px rgba(0, 0, 0, 0.15);\n",
              "      filter: drop-shadow(0px 1px 2px rgba(0, 0, 0, 0.3));\n",
              "      fill: #FFFFFF;\n",
              "    }\n",
              "  </style>\n",
              "\n",
              "      <script>\n",
              "        const buttonEl =\n",
              "          document.querySelector('#df-7979e04b-d7e4-4c98-8f72-eb67d0525918 button.colab-df-convert');\n",
              "        buttonEl.style.display =\n",
              "          google.colab.kernel.accessAllowed ? 'block' : 'none';\n",
              "\n",
              "        async function convertToInteractive(key) {\n",
              "          const element = document.querySelector('#df-7979e04b-d7e4-4c98-8f72-eb67d0525918');\n",
              "          const dataTable =\n",
              "            await google.colab.kernel.invokeFunction('convertToInteractive',\n",
              "                                                     [key], {});\n",
              "          if (!dataTable) return;\n",
              "\n",
              "          const docLinkHtml = 'Like what you see? Visit the ' +\n",
              "            '<a target=\"_blank\" href=https://colab.research.google.com/notebooks/data_table.ipynb>data table notebook</a>'\n",
              "            + ' to learn more about interactive tables.';\n",
              "          element.innerHTML = '';\n",
              "          dataTable['output_type'] = 'display_data';\n",
              "          await google.colab.output.renderOutput(dataTable, element);\n",
              "          const docLink = document.createElement('div');\n",
              "          docLink.innerHTML = docLinkHtml;\n",
              "          element.appendChild(docLink);\n",
              "        }\n",
              "      </script>\n",
              "    </div>\n",
              "  </div>\n"
            ]
          },
          "metadata": {},
          "execution_count": 69
        }
      ]
    }
  ]
}