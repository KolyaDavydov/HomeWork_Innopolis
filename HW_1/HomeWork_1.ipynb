{
  "nbformat": 4,
  "nbformat_minor": 0,
  "metadata": {
    "colab": {
      "provenance": [],
      "toc_visible": true
    },
    "kernelspec": {
      "name": "python3",
      "display_name": "Python 3"
    },
    "language_info": {
      "name": "python"
    }
  },
  "cells": [
    {
      "cell_type": "code",
      "execution_count": 17,
      "metadata": {
        "id": "ZwxXs_DdLLoY",
        "colab": {
          "base_uri": "https://localhost:8080/"
        },
        "outputId": "5373ae9a-ccda-4bb3-d04d-b8518955147e"
      },
      "outputs": [
        {
          "output_type": "stream",
          "name": "stdout",
          "text": [
            "A1 * B1 = [[10]]\n",
            "A2 * B2 = [[-4, -13], [56, -78], [-24, 12], [-4, -3]]\n"
          ]
        }
      ],
      "source": [
        "# Давыдов Николай\n",
        "# Задание №1\n",
        "\n",
        "\n",
        "# матрицы первого задания\n",
        "A1 = [[6,-8,3]]\n",
        "B1 = [[1],[1],[4]]\n",
        "\n",
        "# матрицы для второго задания\n",
        "A2 = [[-3,-7],\n",
        "      [-10,-6],\n",
        "      [0,-6],\n",
        "      [-1,-3]]\n",
        "B2 = [[-8,9],\n",
        "      [4,-2]]\n",
        "\n",
        "\n",
        "def multiplayarray(A, B):\n",
        "  # Создаем список в соответвии с размерностью матриц и заполняем нулями\n",
        "  result = []\n",
        "  for i in range(len(A)):\n",
        "    result.append([0]*len(B[0]))\n",
        "  # Заполняем значение ячейки итоговой матрицы согласно формуле\n",
        "  for i in range(len(result)):\n",
        "    for j in range(len(result[0])):\n",
        "      for k in range(len(A[0])):\n",
        "        result[i][j] += A[i][k] * B[k][j]\n",
        "  return result\n",
        "\n",
        "\n",
        "print(\"A1 * B1 = \" + str(multiplayarray(A1, B1)))\n",
        "print(\"A2 * B2 = \" + str(multiplayarray(A2, B2)))\n",
        "\n"
      ]
    },
    {
      "cell_type": "markdown",
      "source": [],
      "metadata": {
        "id": "oJ1bH72tFfij"
      }
    },
    {
      "cell_type": "code",
      "source": [],
      "metadata": {
        "id": "cwi9oA1iFaeM"
      },
      "execution_count": null,
      "outputs": []
    }
  ]
}